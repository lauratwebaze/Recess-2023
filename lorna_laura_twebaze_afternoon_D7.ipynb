{
 "cells": [
  {
   "cell_type": "code",
   "execution_count": null,
   "metadata": {},
   "outputs": [],
   "source": [
    "import pandas as pd\n",
    "dataset = {\n",
    "    'days': ['Monday', 'Tuesday', 'Wednesday', 'Thursday', 'Friday', 'Saturday', 'Sunday'],\n",
    "    'dates': ['01-07-2023', '02-07-2023', '03-07-2023', '04-07-2023', '05-07-2023', '06-07-2023', '07-07-2023']\n",
    "}\n",
    "s = pd.Series(dataset)\n",
    "days = []\n",
    "index = -1\n",
    "for j in s['days']:\n",
    "    index = index + 1\n",
    "    for i in s['dates']:\n",
    "        days.append(i)\n",
    "    print(j,\":\", days[index])\n"
   ]
  },
  {
   "cell_type": "code",
   "execution_count": null,
   "metadata": {},
   "outputs": [],
   "source": [
    "df = pd.read_csv(\"work.csv\")\n",
    "# Display the first few rows of the DataFrame\n",
    "print(df.head())\n",
    "\n",
    "# Display the last few rows of the DataFrame\n",
    "print(df.tail())\n",
    "\n",
    "# Display information about the DataFrame\n",
    "df.info()\n",
    "\n",
    "# Drop rows with missing values\n",
    "df.dropna(inplace=True)\n",
    "\n",
    "# Fill missing values with a specific value, such as 0\n",
    "df.fillna(0, inplace=True)\n",
    "\n",
    "# Fill missing values using a strategy, such as filling with the mean of each column\n",
    "df.fillna(df.mean(), inplace=True)\n",
    "\n"
   ]
  },
  {
   "cell_type": "code",
   "execution_count": null,
   "metadata": {},
   "outputs": [],
   "source": [
    "import pandas as pd\n",
    "\n",
    "mine_df = pd.read_csv(\"mine.csv\")\n",
    "\n",
    "# Wrong data & format \n",
    "mine_df = mine_df.loc[pd.to_numeric(mine_df['Duration'], errors='coerce').notnull()] \n",
    "mine_df = mine_df.loc[pd.to_numeric(mine_df['Pulse'], errors='coerce').notnull()] \n",
    "mine_df = mine_df.loc[pd.to_numeric(mine_df['Maxpulse'], errors='coerce').notnull()] \n",
    "mine_df = mine_df.loc[pd.to_numeric(mine_df['Calories'], errors='coerce').notnull()] #\n",
    "\n",
    "#Duplicates\n",
    "mine_df.drop_duplicates()\n",
    "\n",
    "#Perform some correlation\n",
    "mine_df.corr(method='pearson')\n",
    "\n",
    "\n",
    "\n",
    "\n"
   ]
  }
 ],
 "metadata": {
  "language_info": {
   "name": "python"
  },
  "orig_nbformat": 4
 },
 "nbformat": 4,
 "nbformat_minor": 2
}
