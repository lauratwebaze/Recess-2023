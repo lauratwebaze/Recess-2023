{
 "cells": [
  {
   "cell_type": "code",
   "execution_count": 4,
   "metadata": {},
   "outputs": [
    {
     "data": {
      "text/plain": [
       "'\\n-Introduction to machine learning \\n- Algorithms, models that help computer to learn and predict \\n-Applicaction of machine learning\\n\\n~summary~\\n1. Image processing\\n2.speech recognition \\n3. Fraud detection \\n\\n#Approaches to machine learning \\n1. supervised learning:dataset that is labeled, predict, linear Regression,\\ndecision tree, support vector machine, neural networks (Supervised Learning algorithm) \\n2.Unsuperived learning :deals with unlabeled data. clustering algorithms to group data together \\nk-means clustering, hierarchical clustering, PCA(Principal xcomponet analysis)\\n3. Reinforcement Learning \\n\\n#Problem Formulation\\n1)define the problem! Classification  task, Regression analysis , clustering ,anomaly detection recommedations.\\n2) gather  the data \\n3)split the data 20,80\\n\\n#Data Types\\nthere are 3 categories of data\\n1. Numerical data\\n~discrete-Integers \\n~continous -infinite values \\n2. categorical- Can be measured against each other \\n3.Ordinal - measured against each other\\n\\nWhat is the difference between categorical data and ordinal data?\\nOrdinal categorical data are non-numerical pieces of information with implied order — for example, survey responses on a scale from \\nvery dissatisfied to very satisfied.And nominal categorical data are non-numerical pieces of information without any inherent order \\n— for example, colors or states.\\n\\n# Check if you have scikit-learn installed\\n# pip show scikit-learn \\n# check if scikit-learn is installed\\n#pip install -U scikit-learn\\n'"
      ]
     },
     "execution_count": 4,
     "metadata": {},
     "output_type": "execute_result"
    }
   ],
   "source": [
    "'''\n",
    "-Introduction to machine learning \n",
    "- Algorithms, models that help computer to learn and predict \n",
    "-Applicaction of machine learning\n",
    "\n",
    "~summary~\n",
    "1. Image processing\n",
    "2.speech recognition \n",
    "3. Fraud detection \n",
    "\n",
    "#Approaches to machine learning \n",
    "1. supervised learning:dataset that is labeled, predict, linear Regression,\n",
    "decision tree, support vector machine, neural networks (Supervised Learning algorithm) \n",
    "2.Unsuperived learning :deals with unlabeled data. clustering algorithms to group data together \n",
    "k-means clustering, hierarchical clustering, PCA(Principal xcomponet analysis)\n",
    "3. Reinforcement Learning \n",
    "\n",
    "#Problem Formulation\n",
    "1)define the problem! Classification  task, Regression analysis , clustering ,anomaly detection recommedations.\n",
    "2) gather  the data \n",
    "3)split the data 20,80\n",
    "\n",
    "#Data Types\n",
    "there are 3 categories of data\n",
    "1. Numerical data\n",
    "~discrete-Integers \n",
    "~continous -infinite values \n",
    "2. categorical- Can be measured against each other \n",
    "3.Ordinal - measured against each other\n",
    "\n",
    "What is the difference between categorical data and ordinal data?\n",
    "Ordinal categorical data are non-numerical pieces of information with implied order — for example, survey responses on a scale from \n",
    "very dissatisfied to very satisfied.And nominal categorical data are non-numerical pieces of information without any inherent order \n",
    "— for example, colors or states.\n",
    "\n",
    "# Check if you have scikit-learn installed\n",
    "# pip show scikit-learn \n",
    "# check if scikit-learn is installed\n",
    "#pip install -U scikit-learn\n",
    "'''"
   ]
  },
  {
   "cell_type": "code",
   "execution_count": 3,
   "metadata": {},
   "outputs": [
    {
     "ename": "ModuleNotFoundError",
     "evalue": "No module named 'numpy'",
     "output_type": "error",
     "traceback": [
      "\u001b[1;31m---------------------------------------------------------------------------\u001b[0m",
      "\u001b[1;31mModuleNotFoundError\u001b[0m                       Traceback (most recent call last)",
      "Cell \u001b[1;32mIn[3], line 1\u001b[0m\n\u001b[1;32m----> 1\u001b[0m \u001b[39mimport\u001b[39;00m \u001b[39mnumpy\u001b[39;00m \u001b[39mas\u001b[39;00m \u001b[39mnp\u001b[39;00m \u001b[39m#linear algebra \u001b[39;00m\n\u001b[0;32m      2\u001b[0m \u001b[39mimport\u001b[39;00m \u001b[39mpandas\u001b[39;00m \u001b[39mas\u001b[39;00m \u001b[39mpd\u001b[39;00m \u001b[39m#data processing, CSV file (pd.read_csv)\u001b[39;00m\n\u001b[0;32m      3\u001b[0m \u001b[39mimport\u001b[39;00m \u001b[39mmatplotlib\u001b[39;00m\u001b[39m.\u001b[39;00m\u001b[39mpyplot\u001b[39;00m  \u001b[39mas\u001b[39;00m \u001b[39mplt\u001b[39;00m\u001b[39m# plotting/data visualization \u001b[39;00m\n",
      "\u001b[1;31mModuleNotFoundError\u001b[0m: No module named 'numpy'"
     ]
    }
   ],
   "source": [
    "import numpy as np #linear algebra \n",
    "import pandas as pd #data processing, CSV file (pd.read_csv)\n",
    "import matplotlib.pyplot  as plt# plotting/data visualization \n",
    "import seaborn as sns # statistical data visualization \n",
    "%matplotlib inline #matplotlib\n",
    "\n",
    "#ML for Regression \n",
    "from sklearn.linear_model import LogisticRegression \n",
    "from sklearn.model_selection import train_test_split\n",
    "\n",
    "#control display ¬ this is optional \n",
    "pd.option.display.max_columns=50\n",
    "sns.set(style=\"darkgrid\",rc={'axes.facecolor:purple'})\n",
    "\n",
    "#Ignore Warning \n",
    "import warnings\n",
    "warnings.filterwarnings('ignore')"
   ]
  },
  {
   "cell_type": "code",
   "execution_count": null,
   "metadata": {},
   "outputs": [],
   "source": []
  }
 ],
 "metadata": {
  "kernelspec": {
   "display_name": "Python 3",
   "language": "python",
   "name": "python3"
  },
  "language_info": {
   "codemirror_mode": {
    "name": "ipython",
    "version": 3
   },
   "file_extension": ".py",
   "mimetype": "text/x-python",
   "name": "python",
   "nbconvert_exporter": "python",
   "pygments_lexer": "ipython3",
   "version": "3.9.-1"
  },
  "orig_nbformat": 4
 },
 "nbformat": 4,
 "nbformat_minor": 2
}
